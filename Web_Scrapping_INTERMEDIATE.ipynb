{
  "nbformat": 4,
  "nbformat_minor": 0,
  "metadata": {
    "colab": {
      "name": "Web_Scrapping_INTERMEDIATE.ipynb",
      "provenance": [],
      "authorship_tag": "ABX9TyMsdJ205kv4lfZyfCrXJo6d",
      "include_colab_link": true
    },
    "kernelspec": {
      "name": "python3",
      "display_name": "Python 3"
    }
  },
  "cells": [
    {
      "cell_type": "markdown",
      "metadata": {
        "id": "view-in-github",
        "colab_type": "text"
      },
      "source": [
        "<a href=\"https://colab.research.google.com/github/Pratham700/Scarapping/blob/master/Web_Scrapping_INTERMEDIATE.ipynb\" target=\"_parent\"><img src=\"https://colab.research.google.com/assets/colab-badge.svg\" alt=\"Open In Colab\"/></a>"
      ]
    },
    {
      "cell_type": "code",
      "metadata": {
        "id": "t7TZPZvVjExS",
        "colab_type": "code",
        "colab": {}
      },
      "source": [
        "import sys\n",
        "import time\n",
        "from bs4 import BeautifulSoup\n",
        "import requests\n",
        "import pandas as pd"
      ],
      "execution_count": 1,
      "outputs": []
    },
    {
      "cell_type": "code",
      "metadata": {
        "id": "TOZX394ujJY-",
        "colab_type": "code",
        "colab": {}
      },
      "source": [
        "try:\n",
        "  page = requests.get('https://www.flipkart.com/search?q=laptops&otracker=search&otracker1=search&marketplace=FLIPKART&as-show=on&as=off')\n",
        "\n",
        "except Exception as e:\n",
        "  error_type, error_obj, error_info = sys.exc_info()\n",
        "  print(\"Error for Link :\",url)\n",
        "  print(error_type,\"Line:\",error_info.tb_lineno)\n",
        "\n",
        "time.sleep(2) \n",
        "soup = BeautifulSoup(page.text,'html.parser') \n",
        "links = soup.find_all(\"div\",attrs={'class':'_3wU53n'})"
      ],
      "execution_count": 48,
      "outputs": []
    },
    {
      "cell_type": "code",
      "metadata": {
        "id": "gchVVDH0oVMw",
        "colab_type": "code",
        "colab": {
          "base_uri": "https://localhost:8080/",
          "height": 35
        },
        "outputId": "1b903d4c-b58d-42f9-a042-0f6d304f9b67"
      },
      "source": [
        "page"
      ],
      "execution_count": 49,
      "outputs": [
        {
          "output_type": "execute_result",
          "data": {
            "text/plain": [
              "<Response [200]>"
            ]
          },
          "metadata": {
            "tags": []
          },
          "execution_count": 49
        }
      ]
    },
    {
      "cell_type": "code",
      "metadata": {
        "id": "EDHIyyP6ob-6",
        "colab_type": "code",
        "colab": {
          "base_uri": "https://localhost:8080/",
          "height": 458
        },
        "outputId": "18c695f2-8d13-4ea2-b4e2-1018dc8bed9e"
      },
      "source": [
        "links"
      ],
      "execution_count": 50,
      "outputs": [
        {
          "output_type": "execute_result",
          "data": {
            "text/plain": [
              "[<div class=\"_3wU53n\">Asus VivoBook 14 Core i3 10th Gen - (4 GB/256 GB SSD/Windows 10 Home) X412FA-EK361T Thin and Light Lap...</div>,\n",
              " <div class=\"_3wU53n\">Apple MacBook Air Core i5 5th Gen - (8 GB/128 GB SSD/Mac OS Sierra) MQD32HN/A A1466</div>,\n",
              " <div class=\"_3wU53n\">HP Pavilion Gaming Ryzen 5 Quad Core - (8 GB/1 TB HDD/Windows 10 Home/4 GB Graphics/NVIDIA Geforce GTX...</div>,\n",
              " <div class=\"_3wU53n\">Asus VivoBook S Series Core i5 8th Gen - (8 GB/1 TB HDD/256 GB SSD/Windows 10 Home) S430FA-EB039T Thin...</div>,\n",
              " <div class=\"_3wU53n\">HP Pavilion x360 Core i3 8th Gen - (4 GB/256 GB SSD/Windows 10 Home) 14-dh0107TU 2 in 1 Laptop</div>,\n",
              " <div class=\"_3wU53n\">Asus ZenBook Core i5 8th Gen - (8 GB/256 GB SSD/Windows 10 Home) UX430UA-GV573T Thin and Light Laptop</div>,\n",
              " <div class=\"_3wU53n\">Asus VivoBook 15 Core i5 8th Gen - (8 GB/1 TB HDD/Windows 10 Home) X543UA-DM582T Laptop</div>,\n",
              " <div class=\"_3wU53n\">Asus VivoBook 15 Core i5 8th Gen - (8 GB/1 TB HDD/Windows 10 Home/2 GB Graphics) X543UB-DM581T Laptop</div>,\n",
              " <div class=\"_3wU53n\">Asus VivoBook 14 Core i3 10th Gen - (4 GB/256 GB SSD/Windows 10 Home) X412FA-EK363T Thin and Light Lap...</div>,\n",
              " <div class=\"_3wU53n\">Asus VivoBook 15 Core i5 8th Gen - (8 GB/1 TB HDD/Windows 10 Home) X543UA-DM581T Laptop</div>,\n",
              " <div class=\"_3wU53n\">Asus VivoBook 15 Core i3 7th Gen - (4 GB/1 TB HDD/Windows 10 Home) X543UA-DM341T Laptop</div>,\n",
              " <div class=\"_3wU53n\">Asus VivoBook 15 Core i3 8th Gen - (4 GB/256 GB SSD/Windows 10 Home) X543UA-DM362T Laptop</div>,\n",
              " <div class=\"_3wU53n\">Lenovo Ideapad S145 Core i3 10th Gen - (8 GB/256 GB SSD/Windows 10 Home) S145-15IIL Laptop</div>,\n",
              " <div class=\"_3wU53n\">Lenovo Ideapad 130 Core i3 7th Gen - (4 GB/1 TB HDD/Windows 10 Home) 130-15IKB Laptop</div>,\n",
              " <div class=\"_3wU53n\">Lenovo Ideapad S340 Core i3 10th Gen - (8 GB/256 GB SSD/Windows 10 Home) S340-14IIL Thin and Light Lap...</div>,\n",
              " <div class=\"_3wU53n\">Asus VivoBook 15 Core i5 8th Gen - (8 GB/1 TB HDD/Windows 10 Home/2 GB Graphics) X543UB-DM582T Laptop</div>,\n",
              " <div class=\"_3wU53n\">Asus VivoBook 14 Core i5 10th Gen - (8 GB/1 TB HDD/256 GB SSD/Windows 10 Home/2 GB Graphics) X412FJ-EK...</div>,\n",
              " <div class=\"_3wU53n\">Asus ZenBook 14 Ryzen 5 Quad Core 2nd Gen - (8 GB/512 GB SSD/Windows 10 Home) UM431DA-AM581TS Thin and...</div>,\n",
              " <div class=\"_3wU53n\">Lenovo Ideapad S340 Ryzen 5 Quad Core - (8 GB/1 TB HDD/256 GB SSD/Windows 10 Home) S340-14API Thin and...</div>,\n",
              " <div class=\"_3wU53n\">Lenovo Ideapad S145 Core i5 10th Gen - (8 GB/1 TB HDD/256 GB SSD/Windows 10 Home) 81W8 Ideapad S145-15...</div>,\n",
              " <div class=\"_3wU53n\">Lenovo Ideapad S145 Core i5 10th Gen - (8 GB/1 TB HDD/Windows 10 Home) 81W8 idea pad S145 -15IIL U Lap...</div>,\n",
              " <div class=\"_3wU53n\">Acer Swift 3 Core i5 8th Gen - (8 GB/512 GB SSD/Windows 10 Home/2 GB Graphics) SF314-55G Thin and Ligh...</div>,\n",
              " <div class=\"_3wU53n\">Asus VivoBook 14 Core i5 8th Gen - (8 GB/512 GB SSD/Windows 10 Home) X412FA-EK230T Thin and Light Lapt...</div>,\n",
              " <div class=\"_3wU53n\">Lenovo Ideapad S340 Core i3 10th Gen - (8 GB/1 TB HDD/Windows 10 Home) S340-14IIL Thin and Light Lapto...</div>]"
            ]
          },
          "metadata": {
            "tags": []
          },
          "execution_count": 50
        }
      ]
    },
    {
      "cell_type": "code",
      "metadata": {
        "id": "osYZvEtypcmp",
        "colab_type": "code",
        "colab": {
          "base_uri": "https://localhost:8080/",
          "height": 458
        },
        "outputId": "3c73a558-6026-4ea5-b443-779aaf32f3d3"
      },
      "source": [
        "product = [ i.text for i in links]\n",
        "\n",
        "product\n"
      ],
      "execution_count": 51,
      "outputs": [
        {
          "output_type": "execute_result",
          "data": {
            "text/plain": [
              "['Asus VivoBook 14 Core i3 10th Gen - (4 GB/256 GB SSD/Windows 10 Home) X412FA-EK361T Thin and Light Lap...',\n",
              " 'Apple MacBook Air Core i5 5th Gen - (8 GB/128 GB SSD/Mac OS Sierra) MQD32HN/A A1466',\n",
              " 'HP Pavilion Gaming Ryzen 5 Quad Core - (8 GB/1 TB HDD/Windows 10 Home/4 GB Graphics/NVIDIA Geforce GTX...',\n",
              " 'Asus VivoBook S Series Core i5 8th Gen - (8 GB/1 TB HDD/256 GB SSD/Windows 10 Home) S430FA-EB039T Thin...',\n",
              " 'HP Pavilion x360 Core i3 8th Gen - (4 GB/256 GB SSD/Windows 10 Home) 14-dh0107TU 2 in 1 Laptop',\n",
              " 'Asus ZenBook Core i5 8th Gen - (8 GB/256 GB SSD/Windows 10 Home) UX430UA-GV573T Thin and Light Laptop',\n",
              " 'Asus VivoBook 15 Core i5 8th Gen - (8 GB/1 TB HDD/Windows 10 Home) X543UA-DM582T Laptop',\n",
              " 'Asus VivoBook 15 Core i5 8th Gen - (8 GB/1 TB HDD/Windows 10 Home/2 GB Graphics) X543UB-DM581T Laptop',\n",
              " 'Asus VivoBook 14 Core i3 10th Gen - (4 GB/256 GB SSD/Windows 10 Home) X412FA-EK363T Thin and Light Lap...',\n",
              " 'Asus VivoBook 15 Core i5 8th Gen - (8 GB/1 TB HDD/Windows 10 Home) X543UA-DM581T Laptop',\n",
              " 'Asus VivoBook 15 Core i3 7th Gen - (4 GB/1 TB HDD/Windows 10 Home) X543UA-DM341T Laptop',\n",
              " 'Asus VivoBook 15 Core i3 8th Gen - (4 GB/256 GB SSD/Windows 10 Home) X543UA-DM362T Laptop',\n",
              " 'Lenovo Ideapad S145 Core i3 10th Gen - (8 GB/256 GB SSD/Windows 10 Home) S145-15IIL Laptop',\n",
              " 'Lenovo Ideapad 130 Core i3 7th Gen - (4 GB/1 TB HDD/Windows 10 Home) 130-15IKB Laptop',\n",
              " 'Lenovo Ideapad S340 Core i3 10th Gen - (8 GB/256 GB SSD/Windows 10 Home) S340-14IIL Thin and Light Lap...',\n",
              " 'Asus VivoBook 15 Core i5 8th Gen - (8 GB/1 TB HDD/Windows 10 Home/2 GB Graphics) X543UB-DM582T Laptop',\n",
              " 'Asus VivoBook 14 Core i5 10th Gen - (8 GB/1 TB HDD/256 GB SSD/Windows 10 Home/2 GB Graphics) X412FJ-EK...',\n",
              " 'Asus ZenBook 14 Ryzen 5 Quad Core 2nd Gen - (8 GB/512 GB SSD/Windows 10 Home) UM431DA-AM581TS Thin and...',\n",
              " 'Lenovo Ideapad S340 Ryzen 5 Quad Core - (8 GB/1 TB HDD/256 GB SSD/Windows 10 Home) S340-14API Thin and...',\n",
              " 'Lenovo Ideapad S145 Core i5 10th Gen - (8 GB/1 TB HDD/256 GB SSD/Windows 10 Home) 81W8 Ideapad S145-15...',\n",
              " 'Lenovo Ideapad S145 Core i5 10th Gen - (8 GB/1 TB HDD/Windows 10 Home) 81W8 idea pad S145 -15IIL U Lap...',\n",
              " 'Acer Swift 3 Core i5 8th Gen - (8 GB/512 GB SSD/Windows 10 Home/2 GB Graphics) SF314-55G Thin and Ligh...',\n",
              " 'Asus VivoBook 14 Core i5 8th Gen - (8 GB/512 GB SSD/Windows 10 Home) X412FA-EK230T Thin and Light Lapt...',\n",
              " 'Lenovo Ideapad S340 Core i3 10th Gen - (8 GB/1 TB HDD/Windows 10 Home) S340-14IIL Thin and Light Lapto...']"
            ]
          },
          "metadata": {
            "tags": []
          },
          "execution_count": 51
        }
      ]
    },
    {
      "cell_type": "code",
      "metadata": {
        "id": "_Dg0dbm4rklC",
        "colab_type": "code",
        "colab": {}
      },
      "source": [
        "price = soup.find_all(\"div\",attrs={'class':'_2rQ-NK'})"
      ],
      "execution_count": 52,
      "outputs": []
    },
    {
      "cell_type": "code",
      "metadata": {
        "id": "I4MuF213u14R",
        "colab_type": "code",
        "colab": {
          "base_uri": "https://localhost:8080/",
          "height": 458
        },
        "outputId": "d6966b52-9613-405b-e7ef-960bf47aab81"
      },
      "source": [
        "prices = [i.text for i in price]\n",
        "prices"
      ],
      "execution_count": 53,
      "outputs": [
        {
          "output_type": "execute_result",
          "data": {
            "text/plain": [
              "['₹35,990',\n",
              " '₹71,990',\n",
              " '₹54,990',\n",
              " '₹49,990',\n",
              " '₹44,990',\n",
              " '₹45,990',\n",
              " '₹37,990',\n",
              " '₹44,760',\n",
              " '₹35,990',\n",
              " '₹37,990',\n",
              " '₹37,591',\n",
              " '₹30,990',\n",
              " '₹38,990',\n",
              " '₹29,990',\n",
              " '₹41,990',\n",
              " '₹44,760',\n",
              " '₹59,990',\n",
              " '₹56,990',\n",
              " '₹44,990',\n",
              " '₹49,990',\n",
              " '₹46,990',\n",
              " '₹52,990',\n",
              " '₹49,990',\n",
              " '₹40,990']"
            ]
          },
          "metadata": {
            "tags": []
          },
          "execution_count": 53
        }
      ]
    },
    {
      "cell_type": "code",
      "metadata": {
        "id": "7b50MjXGu4Wg",
        "colab_type": "code",
        "colab": {}
      },
      "source": [
        "rate = soup.find_all(\"div\",attrs={'class':'hGSR34'})"
      ],
      "execution_count": 56,
      "outputs": []
    },
    {
      "cell_type": "code",
      "metadata": {
        "id": "R5a39-t32xn-",
        "colab_type": "code",
        "colab": {
          "base_uri": "https://localhost:8080/",
          "height": 458
        },
        "outputId": "7ac04b7d-3b6c-4849-cfb8-b40c3e208227"
      },
      "source": [
        "ratings = [i.text for i in rate]\n",
        "ratings = ratings[:24]\n",
        "ratings"
      ],
      "execution_count": 65,
      "outputs": [
        {
          "output_type": "execute_result",
          "data": {
            "text/plain": [
              "['4.5',\n",
              " '4.7',\n",
              " '4.3',\n",
              " '4.5',\n",
              " '4.5',\n",
              " '4.3',\n",
              " '4.2',\n",
              " '4.1',\n",
              " '4.5',\n",
              " '4.2',\n",
              " '4.1',\n",
              " '4.3',\n",
              " '3.8',\n",
              " '4',\n",
              " '4.8',\n",
              " '4.1',\n",
              " '4.1',\n",
              " '4.1',\n",
              " '4.1',\n",
              " '4.5',\n",
              " '4.4',\n",
              " '4',\n",
              " '4.4',\n",
              " '5']"
            ]
          },
          "metadata": {
            "tags": []
          },
          "execution_count": 65
        }
      ]
    },
    {
      "cell_type": "code",
      "metadata": {
        "id": "rrDI5nwX3F_o",
        "colab_type": "code",
        "colab": {}
      },
      "source": [
        "df = pd.DataFrame({'PRDCT_NM': product,'PRC': prices,'RTNG': ratings})"
      ],
      "execution_count": 66,
      "outputs": []
    },
    {
      "cell_type": "code",
      "metadata": {
        "id": "m5BFMAge4TPE",
        "colab_type": "code",
        "colab": {}
      },
      "source": [
        "df.to_csv('laptops.csv',index=False)"
      ],
      "execution_count": 67,
      "outputs": []
    },
    {
      "cell_type": "code",
      "metadata": {
        "id": "DDxdvUmA6FJn",
        "colab_type": "code",
        "colab": {
          "base_uri": "https://localhost:8080/",
          "height": 206
        },
        "outputId": "1a7b098c-ea8d-4b1f-f47d-75c8759180e7"
      },
      "source": [
        "df.head()"
      ],
      "execution_count": 68,
      "outputs": [
        {
          "output_type": "execute_result",
          "data": {
            "text/html": [
              "<div>\n",
              "<style scoped>\n",
              "    .dataframe tbody tr th:only-of-type {\n",
              "        vertical-align: middle;\n",
              "    }\n",
              "\n",
              "    .dataframe tbody tr th {\n",
              "        vertical-align: top;\n",
              "    }\n",
              "\n",
              "    .dataframe thead th {\n",
              "        text-align: right;\n",
              "    }\n",
              "</style>\n",
              "<table border=\"1\" class=\"dataframe\">\n",
              "  <thead>\n",
              "    <tr style=\"text-align: right;\">\n",
              "      <th></th>\n",
              "      <th>PRDCT_NM</th>\n",
              "      <th>PRC</th>\n",
              "      <th>RTNG</th>\n",
              "    </tr>\n",
              "  </thead>\n",
              "  <tbody>\n",
              "    <tr>\n",
              "      <th>0</th>\n",
              "      <td>Asus VivoBook 14 Core i3 10th Gen - (4 GB/256 ...</td>\n",
              "      <td>₹35,990</td>\n",
              "      <td>4.5</td>\n",
              "    </tr>\n",
              "    <tr>\n",
              "      <th>1</th>\n",
              "      <td>Apple MacBook Air Core i5 5th Gen - (8 GB/128 ...</td>\n",
              "      <td>₹71,990</td>\n",
              "      <td>4.7</td>\n",
              "    </tr>\n",
              "    <tr>\n",
              "      <th>2</th>\n",
              "      <td>HP Pavilion Gaming Ryzen 5 Quad Core - (8 GB/1...</td>\n",
              "      <td>₹54,990</td>\n",
              "      <td>4.3</td>\n",
              "    </tr>\n",
              "    <tr>\n",
              "      <th>3</th>\n",
              "      <td>Asus VivoBook S Series Core i5 8th Gen - (8 GB...</td>\n",
              "      <td>₹49,990</td>\n",
              "      <td>4.5</td>\n",
              "    </tr>\n",
              "    <tr>\n",
              "      <th>4</th>\n",
              "      <td>HP Pavilion x360 Core i3 8th Gen - (4 GB/256 G...</td>\n",
              "      <td>₹44,990</td>\n",
              "      <td>4.5</td>\n",
              "    </tr>\n",
              "  </tbody>\n",
              "</table>\n",
              "</div>"
            ],
            "text/plain": [
              "                                            PRDCT_NM      PRC RTNG\n",
              "0  Asus VivoBook 14 Core i3 10th Gen - (4 GB/256 ...  ₹35,990  4.5\n",
              "1  Apple MacBook Air Core i5 5th Gen - (8 GB/128 ...  ₹71,990  4.7\n",
              "2  HP Pavilion Gaming Ryzen 5 Quad Core - (8 GB/1...  ₹54,990  4.3\n",
              "3  Asus VivoBook S Series Core i5 8th Gen - (8 GB...  ₹49,990  4.5\n",
              "4  HP Pavilion x360 Core i3 8th Gen - (4 GB/256 G...  ₹44,990  4.5"
            ]
          },
          "metadata": {
            "tags": []
          },
          "execution_count": 68
        }
      ]
    },
    {
      "cell_type": "code",
      "metadata": {
        "id": "5Mxya3Bz6uOb",
        "colab_type": "code",
        "colab": {}
      },
      "source": [
        ""
      ],
      "execution_count": null,
      "outputs": []
    }
  ]
}